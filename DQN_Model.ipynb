{
 "cells": [
  {
   "cell_type": "markdown",
   "id": "409a003d",
   "metadata": {},
   "source": [
    "\n",
    "# DQN Training for Construction Logistics Ordering System\n",
    "\n",
    "This notebook contains the core implementation of the DQN model used in the paper.  \n",
    "It includes the environment definition, DQN architecture, training loop, and policy extraction logic.  \n",
    "All parameters and reward structures align with those described in Section 3 of the manuscript.\n"
   ]
  }
 ],
 "metadata": {
  "kernelspec": {
   "display_name": "Python 3 (ipykernel)",
   "language": "python",
   "name": "python3"
  },
  "language_info": {
   "codemirror_mode": {
    "name": "ipython",
    "version": 3
   },
   "file_extension": ".py",
   "mimetype": "text/x-python",
   "name": "python",
   "nbconvert_exporter": "python",
   "pygments_lexer": "ipython3",
   "version": "3.12.3"
  }
 },
 "nbformat": 4,
 "nbformat_minor": 5
}
